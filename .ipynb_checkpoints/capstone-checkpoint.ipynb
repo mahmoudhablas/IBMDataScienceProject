{
 "cells": [
  {
   "cell_type": "markdown",
   "id": "a0a8b983-9a33-441b-87e1-51523083e770",
   "metadata": {},
   "source": [
    "<h1>This notebook is for Applied Data Science Capstone</h1>"
   ]
  },
  {
   "cell_type": "code",
   "execution_count": 4,
   "id": "b834c3f7-a645-414c-bad6-e78fa039f259",
   "metadata": {},
   "outputs": [],
   "source": [
    "import pandas as pd\n",
    "import numpy as np"
   ]
  },
  {
   "cell_type": "code",
   "execution_count": 5,
   "id": "8bfcc649-d6ae-4163-937b-e2f540de2622",
   "metadata": {},
   "outputs": [
    {
     "name": "stdout",
     "output_type": "stream",
     "text": [
      "Hello Capstone Project Course!\n"
     ]
    }
   ],
   "source": [
    "print (\"Hello Capstone Project Course!\")"
   ]
  },
  {
   "cell_type": "code",
   "execution_count": null,
   "id": "0c9133d9-1841-4420-967e-93a8329d67bf",
   "metadata": {},
   "outputs": [],
   "source": []
  }
 ],
 "metadata": {
  "kernelspec": {
   "display_name": "Python 3",
   "language": "python",
   "name": "python3"
  },
  "language_info": {
   "codemirror_mode": {
    "name": "ipython",
    "version": 3
   },
   "file_extension": ".py",
   "mimetype": "text/x-python",
   "name": "python",
   "nbconvert_exporter": "python",
   "pygments_lexer": "ipython3",
   "version": "3.9.5"
  }
 },
 "nbformat": 4,
 "nbformat_minor": 5
}
